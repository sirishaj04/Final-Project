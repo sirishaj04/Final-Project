{
  "nbformat": 4,
  "nbformat_minor": 0,
  "metadata": {
    "colab": {
      "name": "flask.ipynb",
      "provenance": []
    },
    "kernelspec": {
      "name": "python3",
      "display_name": "Python 3"
    },
    "language_info": {
      "name": "python"
    },
    "accelerator": "GPU"
  },
  "cells": [
    {
      "cell_type": "code",
      "metadata": {
        "id": "QDLRTy8KjHgr"
      },
      "source": [
        "main='''.img-preview {\n",
        "    width: 256px;\n",
        "    height: 256px;\n",
        "    position: relative;\n",
        "    border: 5px solid #F8F8F8;\n",
        "    box-shadow: 0px 2px 4px 0px rgba(0, 0, 0, 0.1);\n",
        "    margin-top: 1em;\n",
        "    margin-bottom: 1em;    \n",
        "}\n",
        "\n",
        ".img-preview>div {\n",
        "    width: 100%;\n",
        "    height: 100%;\n",
        "    background-size: 256px 256px;\n",
        "    background-repeat: no-repeat;\n",
        "    background-position: center;\n",
        "}\n",
        "\n",
        "input[type=\"file\"] {\n",
        "    display: none;\n",
        "}\n",
        "\n",
        ".upload-label{\n",
        "    display: inline-block;\n",
        "    padding: 12px 30px;\n",
        "    background: #39D2B4;\n",
        "    color: #fff;\n",
        "    font-size: 1em;\n",
        "    transition: all .4s;\n",
        "    cursor: pointer;\n",
        "}\n",
        "\n",
        ".upload-label:hover{\n",
        "    background: #34495E;\n",
        "    color: #39D2B4;\n",
        "}\n",
        "\n",
        ".loader {\n",
        "    border: 8px solid #f3f3f3; /* Light grey */\n",
        "    border-top: 8px solid #3498db; /* Blue */\n",
        "    border-radius: 50%;\n",
        "    width: 50px;\n",
        "    height: 50px;\n",
        "    animation: spin 1s linear infinite;\n",
        "}\n",
        "\n",
        "@keyframes spin {\n",
        "    0% { transform: rotate(0deg); }\n",
        "    100% { transform: rotate(360deg); }\n",
        "}'''\n",
        "\n",
        "file = open(\"static/css/main.css\",\"w\")\n",
        "file.write(main)\n",
        "file.close()"
      ],
      "execution_count": null,
      "outputs": []
    },
    {
      "cell_type": "code",
      "metadata": {
        "id": "gEZS4DcGksEJ"
      },
      "source": [
        "main='''$(document).ready(function () {\n",
        "    // Init\n",
        "    $('.image-section').hide();\n",
        "    $('.loader').hide();\n",
        "    $('#result').hide();\n",
        "\n",
        "    // Upload Preview\n",
        "    function readURL(input) {\n",
        "        if (input.files && input.files[0]) {\n",
        "            var reader = new FileReader();\n",
        "            reader.onload = function (e) {\n",
        "                $('#imagePreview').css('background-image', 'url(' + e.target.result + ')');\n",
        "                $('#imagePreview').hide();\n",
        "                $('#imagePreview').fadeIn(650);\n",
        "            }\n",
        "            reader.readAsDataURL(input.files[0]);\n",
        "        }\n",
        "    }\n",
        "    $(\"#imageUpload\").change(function () {\n",
        "        $('.image-section').show();\n",
        "        $('#btn-predict').show();\n",
        "        $('#result').text('');\n",
        "        $('#result').hide();\n",
        "        readURL(this);\n",
        "    });\n",
        "\n",
        "    // Predict\n",
        "    $('#btn-predict').click(function () {\n",
        "        var form_data = new FormData($('#upload-file')[0]);\n",
        "\n",
        "        // Show loading animation\n",
        "        $(this).hide();\n",
        "        $('.loader').show();\n",
        "\n",
        "        // Make prediction by calling api /predict\n",
        "        $.ajax({\n",
        "            type: 'POST',\n",
        "            url: '/predict',\n",
        "            data: form_data,\n",
        "            contentType: false,\n",
        "            cache: false,\n",
        "            processData: false,\n",
        "            async: true,\n",
        "            success: function (data) {\n",
        "                // Get and display the result\n",
        "                $('.loader').hide();\n",
        "                $('#result').fadeIn(600);\n",
        "                $('#result').text(' Result:  ' + data);\n",
        "                console.log('Success!');\n",
        "            },\n",
        "        });\n",
        "    });\n",
        "\n",
        "});'''\n",
        "\n",
        "\n",
        "file = open(\"static/js/main.js\",\"w\")\n",
        "file.write(main)\n",
        "file.close()\n",
        "\n"
      ],
      "execution_count": null,
      "outputs": []
    },
    {
      "cell_type": "code",
      "metadata": {
        "id": "XWIFDc6-hgnF"
      },
      "source": [
        "base='''<html lang=\"en\">\n",
        "\n",
        "<head>\n",
        "    <meta charset=\"UTF-8\">\n",
        "    <meta name=\"viewport\" content=\"width=device-width, initial-scale=1.0\">\n",
        "    <meta http-equiv=\"X-UA-Compatible\" content=\"ie=edge\">\n",
        "    <title>AI Demo</title>\n",
        "    <link href=\"https://cdn.bootcss.com/bootstrap/4.0.0/css/bootstrap.min.css\" rel=\"stylesheet\">\n",
        "    <script src=\"https://cdn.bootcss.com/popper.js/1.12.9/umd/popper.min.js\"></script>\n",
        "    <script src=\"https://cdn.bootcss.com/jquery/3.3.1/jquery.min.js\"></script>\n",
        "    <script src=\"https://cdn.bootcss.com/bootstrap/4.0.0/js/bootstrap.min.js\"></script>\n",
        "    <link href=\"{{ url_for('static', filename='css/main.css') }}\" rel=\"stylesheet\">      \n",
        "</head>\n",
        "\n",
        "<body>\n",
        "    <nav class=\"navbar navbar-dark bg-dark\">\n",
        "        <div class=\"container\">\n",
        "            <a class=\"navbar-brand\" href=\"#\">AI Demo</a>\n",
        "            <button class=\"btn btn-outline-secondary my-2 my-sm-0\" type=\"submit\">Help</button>\n",
        "        </div>\n",
        "    </nav>\n",
        "    <div class=\"container\">\n",
        "        <div id=\"content\" style=\"margin-top:2em\">{% block content %}{% endblock %}</div>\n",
        "    </div>\n",
        "</body>\n",
        "\n",
        "<footer>\n",
        "    <script src=\"{{ url_for('static', filename='js/main.js') }}\" type=\"text/javascript\"></script>    \n",
        "</footer>\n",
        "\n",
        "</html>'''\n",
        "\n",
        "\n",
        "file = open(\"templates/base.html\",\"w\")\n",
        "file.write(base)\n",
        "file.close()\n"
      ],
      "execution_count": null,
      "outputs": []
    },
    {
      "cell_type": "code",
      "metadata": {
        "id": "QqoscBgQlaNo"
      },
      "source": [
        "index='''{% extends \"base.html\" %} {% block content %}\n",
        "\n",
        "<h2>Image Classifier</h2>\n",
        "\n",
        "<div>\n",
        "    <form id=\"upload-file\" method=\"post\" enctype=\"multipart/form-data\">\n",
        "        <label for=\"imageUpload\" class=\"upload-label\">\n",
        "            Choose...\n",
        "        </label>\n",
        "        <input type=\"file\" name=\"file\" id=\"imageUpload\" accept=\".png, .jpg, .jpeg\">\n",
        "    </form>\n",
        "\n",
        "    <div class=\"image-section\" style=\"display:none;\">\n",
        "        <div class=\"img-preview\">\n",
        "            <div id=\"imagePreview\">\n",
        "            </div>\n",
        "        </div>\n",
        "        <div>\n",
        "            <button type=\"button\" class=\"btn btn-primary btn-lg \" id=\"btn-predict\">Predict!</button>\n",
        "        </div>\n",
        "    </div>\n",
        "\n",
        "    <div class=\"loader\" style=\"display:none;\"></div>\n",
        "\n",
        "    <h3 id=\"result\">\n",
        "        <span> </span>\n",
        "    </h3>\n",
        "\n",
        "</div>\n",
        "\n",
        "{% endblock %}'''\n",
        "\n",
        "\n",
        "file = open(\"templates/index.html\",\"w\")\n",
        "file.write(index)\n",
        "file.close()\n",
        "\n"
      ],
      "execution_count": null,
      "outputs": []
    },
    {
      "cell_type": "code",
      "metadata": {
        "colab": {
          "base_uri": "https://localhost:8080/"
        },
        "id": "9zXe5F5Ll3Ww",
        "outputId": "d1811a2f-dbe3-4a8f-a87c-f016089b5676"
      },
      "source": [
        "!pip install flask_ngrok\n",
        "from flask_ngrok import run_with_ngrok\n",
        "from flask import Flask, render_template\n",
        "app = Flask(__name__)\n",
        "run_with_ngrok(app)\n",
        "@app.route('/')\n",
        "def text():\n",
        "  return render_template('index.html')\n",
        "\n",
        "app.run()"
      ],
      "execution_count": null,
      "outputs": [
        {
          "output_type": "stream",
          "text": [
            "Requirement already satisfied: flask_ngrok in /usr/local/lib/python3.7/dist-packages (0.0.25)\n",
            "Requirement already satisfied: requests in /usr/local/lib/python3.7/dist-packages (from flask_ngrok) (2.23.0)\n",
            "Requirement already satisfied: Flask>=0.8 in /usr/local/lib/python3.7/dist-packages (from flask_ngrok) (1.1.4)\n",
            "Requirement already satisfied: itsdangerous<2.0,>=0.24 in /usr/local/lib/python3.7/dist-packages (from Flask>=0.8->flask_ngrok) (1.1.0)\n",
            "Requirement already satisfied: click<8.0,>=5.1 in /usr/local/lib/python3.7/dist-packages (from Flask>=0.8->flask_ngrok) (7.1.2)\n",
            "Requirement already satisfied: Werkzeug<2.0,>=0.15 in /usr/local/lib/python3.7/dist-packages (from Flask>=0.8->flask_ngrok) (1.0.1)\n",
            "Requirement already satisfied: Jinja2<3.0,>=2.10.1 in /usr/local/lib/python3.7/dist-packages (from Flask>=0.8->flask_ngrok) (2.11.3)\n",
            "Requirement already satisfied: MarkupSafe>=0.23 in /usr/local/lib/python3.7/dist-packages (from Jinja2<3.0,>=2.10.1->Flask>=0.8->flask_ngrok) (2.0.1)\n",
            "Requirement already satisfied: idna<3,>=2.5 in /usr/local/lib/python3.7/dist-packages (from requests->flask_ngrok) (2.10)\n",
            "Requirement already satisfied: chardet<4,>=3.0.2 in /usr/local/lib/python3.7/dist-packages (from requests->flask_ngrok) (3.0.4)\n",
            "Requirement already satisfied: certifi>=2017.4.17 in /usr/local/lib/python3.7/dist-packages (from requests->flask_ngrok) (2021.5.30)\n",
            "Requirement already satisfied: urllib3!=1.25.0,!=1.25.1,<1.26,>=1.21.1 in /usr/local/lib/python3.7/dist-packages (from requests->flask_ngrok) (1.24.3)\n",
            " * Serving Flask app \"__main__\" (lazy loading)\n",
            " * Environment: production\n",
            "\u001b[31m   WARNING: This is a development server. Do not use it in a production deployment.\u001b[0m\n",
            "\u001b[2m   Use a production WSGI server instead.\u001b[0m\n",
            " * Debug mode: off\n"
          ],
          "name": "stdout"
        },
        {
          "output_type": "stream",
          "text": [
            " * Running on http://127.0.0.1:5000/ (Press CTRL+C to quit)\n"
          ],
          "name": "stderr"
        },
        {
          "output_type": "stream",
          "text": [
            " * Running on http://0d59e0486bb0.ngrok.io\n",
            " * Traffic stats available on http://127.0.0.1:4040\n"
          ],
          "name": "stdout"
        },
        {
          "output_type": "stream",
          "text": [
            "127.0.0.1 - - [24/Jul/2021 17:39:36] \"\u001b[37mGET / HTTP/1.1\u001b[0m\" 200 -\n",
            "127.0.0.1 - - [24/Jul/2021 17:39:37] \"\u001b[37mGET /static/css/main.css HTTP/1.1\u001b[0m\" 200 -\n",
            "127.0.0.1 - - [24/Jul/2021 17:39:37] \"\u001b[37mGET /static/js/main.js HTTP/1.1\u001b[0m\" 200 -\n",
            "127.0.0.1 - - [24/Jul/2021 17:39:38] \"\u001b[33mGET /favicon.ico HTTP/1.1\u001b[0m\" 404 -\n"
          ],
          "name": "stderr"
        }
      ]
    },
    {
      "cell_type": "code",
      "metadata": {
        "id": "4yHRTQ6eomgS"
      },
      "source": [
        "from __future__ import division, print_function\n",
        "import sys\n",
        "import os\n",
        "import glob\n",
        "import re\n",
        "import numpy as np\n",
        "\n",
        "from tensorflow.compat.v1 import ConfigProto\n",
        "from tensorflow.compat.v1 import InteractiveSession\n",
        "\n",
        "config = ConfigProto()\n",
        "config.gpu_options.per_process_gpu_memory_fraction = 0.2\n",
        "config.gpu_options.allow_growth = True\n",
        "session = InteractiveSession(config=config)\n",
        "\n",
        "\n"
      ],
      "execution_count": null,
      "outputs": []
    },
    {
      "cell_type": "code",
      "metadata": {
        "id": "6CJFlx8xprJl"
      },
      "source": [
        "# Keras\n",
        "#from tensorflow.keras.applications.inception_v3 import preprocess_input\n",
        "from tensorflow.keras.models import load_model\n",
        "from tensorflow.keras.preprocessing import image"
      ],
      "execution_count": null,
      "outputs": []
    },
    {
      "cell_type": "code",
      "metadata": {
        "colab": {
          "base_uri": "https://localhost:8080/"
        },
        "id": "CsdKBdCAo2j-",
        "outputId": "28ae9152-c6f3-4433-85ef-3464292e2713"
      },
      "source": [
        "!pip install flask_ngrok\n",
        "\n",
        "# Flask utils\n",
        "from flask_ngrok import run_with_ngrok\n",
        "from flask import Flask, redirect, url_for, request, render_template\n",
        "from werkzeug.utils import secure_filename\n",
        "#from gevent.pywsgi import WSGIServer\n",
        "\n",
        "# Define a flask app\n",
        "app = Flask(__name__)\n",
        "\n",
        "run_with_ngrok(app)\n",
        "\n",
        "# Model saved with Keras model.save()\n",
        "MODEL_PATH ='/content/model/model_inception_fish.h5'\n",
        "\n",
        "# Load your trained model\n",
        "model = load_model(MODEL_PATH)\n",
        "\n",
        "\n",
        "\n",
        "def model_predict(img_path, model):\n",
        "    print(img_path)\n",
        "    img = image.load_img(img_path, target_size=(224, 224))\n",
        "\n",
        "    # Preprocessing the image\n",
        "    x = image.img_to_array(img)\n",
        "    # x = np.true_divide(x, 255)\n",
        "    ## Scaling\n",
        "    x=x/255\n",
        "    x = np.expand_dims(x, axis=0)\n",
        "   \n",
        "\n",
        "   # x = preprocess_input(x)\n",
        "\n",
        "    result = model.predict(x)\n",
        "    result=np.argmax(preds, axis=1)\n",
        "    if result==0:\n",
        "        result=\"The fish is infected.\"\n",
        "    else:\n",
        "        result=\"The fish is healthy.\"\n",
        "        \n",
        "    return result\n",
        "\n",
        "\n",
        "@app.route('/', methods=['GET'])\n",
        "def index():\n",
        "    # Main page\n",
        "    return render_template('index.html')\n",
        "\n",
        "\n",
        "@app.route('/predict', methods=['GET', 'POST'])\n",
        "def upload():\n",
        "    if request.method == 'POST':\n",
        "        # Get the file from post request\n",
        "        f = request.files['file']\n",
        "\n",
        "        # Save the file to ./uploads\n",
        "        basepath = os.path.dirname('/content/uploads')\n",
        "        file_path = os.path.join(\n",
        "            basepath, 'uploads', secure_filename(f.filename))\n",
        "        f.save(file_path)\n",
        "\n",
        "        # Make prediction\n",
        "        preds = model_predict(file_path, model)\n",
        "        result=preds\n",
        "        return result\n",
        "    return None\n",
        "\n",
        "app.run()"
      ],
      "execution_count": null,
      "outputs": [
        {
          "output_type": "stream",
          "text": [
            "Requirement already satisfied: flask_ngrok in /usr/local/lib/python3.7/dist-packages (0.0.25)\n",
            "Requirement already satisfied: Flask>=0.8 in /usr/local/lib/python3.7/dist-packages (from flask_ngrok) (1.1.4)\n",
            "Requirement already satisfied: requests in /usr/local/lib/python3.7/dist-packages (from flask_ngrok) (2.23.0)\n",
            "Requirement already satisfied: itsdangerous<2.0,>=0.24 in /usr/local/lib/python3.7/dist-packages (from Flask>=0.8->flask_ngrok) (1.1.0)\n",
            "Requirement already satisfied: Werkzeug<2.0,>=0.15 in /usr/local/lib/python3.7/dist-packages (from Flask>=0.8->flask_ngrok) (1.0.1)\n",
            "Requirement already satisfied: click<8.0,>=5.1 in /usr/local/lib/python3.7/dist-packages (from Flask>=0.8->flask_ngrok) (7.1.2)\n",
            "Requirement already satisfied: Jinja2<3.0,>=2.10.1 in /usr/local/lib/python3.7/dist-packages (from Flask>=0.8->flask_ngrok) (2.11.3)\n",
            "Requirement already satisfied: MarkupSafe>=0.23 in /usr/local/lib/python3.7/dist-packages (from Jinja2<3.0,>=2.10.1->Flask>=0.8->flask_ngrok) (2.0.1)\n",
            "Requirement already satisfied: urllib3!=1.25.0,!=1.25.1,<1.26,>=1.21.1 in /usr/local/lib/python3.7/dist-packages (from requests->flask_ngrok) (1.24.3)\n",
            "Requirement already satisfied: idna<3,>=2.5 in /usr/local/lib/python3.7/dist-packages (from requests->flask_ngrok) (2.10)\n",
            "Requirement already satisfied: chardet<4,>=3.0.2 in /usr/local/lib/python3.7/dist-packages (from requests->flask_ngrok) (3.0.4)\n",
            "Requirement already satisfied: certifi>=2017.4.17 in /usr/local/lib/python3.7/dist-packages (from requests->flask_ngrok) (2021.5.30)\n",
            " * Serving Flask app \"__main__\" (lazy loading)\n",
            " * Environment: production\n",
            "\u001b[31m   WARNING: This is a development server. Do not use it in a production deployment.\u001b[0m\n",
            "\u001b[2m   Use a production WSGI server instead.\u001b[0m\n",
            " * Debug mode: off\n"
          ],
          "name": "stdout"
        },
        {
          "output_type": "stream",
          "text": [
            " * Running on http://127.0.0.1:5000/ (Press CTRL+C to quit)\n"
          ],
          "name": "stderr"
        },
        {
          "output_type": "stream",
          "text": [
            " * Running on http://4c9c7ac39b4e.ngrok.io\n",
            " * Traffic stats available on http://127.0.0.1:4040\n"
          ],
          "name": "stdout"
        },
        {
          "output_type": "stream",
          "text": [
            "127.0.0.1 - - [24/Jul/2021 18:13:18] \"\u001b[37mGET / HTTP/1.1\u001b[0m\" 200 -\n",
            "127.0.0.1 - - [24/Jul/2021 18:13:18] \"\u001b[37mGET /static/css/main.css HTTP/1.1\u001b[0m\" 200 -\n",
            "127.0.0.1 - - [24/Jul/2021 18:13:18] \"\u001b[37mGET /static/js/main.js HTTP/1.1\u001b[0m\" 200 -\n",
            "127.0.0.1 - - [24/Jul/2021 18:13:20] \"\u001b[33mGET /favicon.ico HTTP/1.1\u001b[0m\" 404 -\n"
          ],
          "name": "stderr"
        },
        {
          "output_type": "stream",
          "text": [
            "/content/uploads/d5.jpg\n"
          ],
          "name": "stdout"
        },
        {
          "output_type": "stream",
          "text": [
            "127.0.0.1 - - [24/Jul/2021 18:14:01] \"\u001b[37mPOST /predict HTTP/1.1\u001b[0m\" 200 -\n",
            "127.0.0.1 - - [24/Jul/2021 18:14:41] \"\u001b[37mPOST /predict HTTP/1.1\u001b[0m\" 200 -\n"
          ],
          "name": "stderr"
        },
        {
          "output_type": "stream",
          "text": [
            "/content/uploads/h5.JPG\n"
          ],
          "name": "stdout"
        },
        {
          "output_type": "stream",
          "text": [
            "127.0.0.1 - - [24/Jul/2021 18:20:18] \"\u001b[37mPOST /predict HTTP/1.1\u001b[0m\" 200 -\n"
          ],
          "name": "stderr"
        },
        {
          "output_type": "stream",
          "text": [
            "/content/uploads/d5.jpg\n"
          ],
          "name": "stdout"
        },
        {
          "output_type": "stream",
          "text": [
            "127.0.0.1 - - [24/Jul/2021 18:21:05] \"\u001b[37mPOST /predict HTTP/1.1\u001b[0m\" 200 -\n"
          ],
          "name": "stderr"
        },
        {
          "output_type": "stream",
          "text": [
            "/content/uploads/d1.jpg\n"
          ],
          "name": "stdout"
        },
        {
          "output_type": "stream",
          "text": [
            "127.0.0.1 - - [24/Jul/2021 18:22:54] \"\u001b[37mPOST /predict HTTP/1.1\u001b[0m\" 200 -\n"
          ],
          "name": "stderr"
        },
        {
          "output_type": "stream",
          "text": [
            "/content/uploads/WhatsApp_Image_2021-07-24_at_11.51.00_PM.jpeg\n"
          ],
          "name": "stdout"
        },
        {
          "output_type": "stream",
          "text": [
            "127.0.0.1 - - [24/Jul/2021 18:24:36] \"\u001b[37mPOST /predict HTTP/1.1\u001b[0m\" 200 -\n"
          ],
          "name": "stderr"
        },
        {
          "output_type": "stream",
          "text": [
            "/content/uploads/WhatsApp_Image_2021-07-24_at_11.54.02_PM.jpeg\n"
          ],
          "name": "stdout"
        },
        {
          "output_type": "stream",
          "text": [
            "127.0.0.1 - - [24/Jul/2021 18:26:48] \"\u001b[37mPOST /predict HTTP/1.1\u001b[0m\" 200 -\n"
          ],
          "name": "stderr"
        },
        {
          "output_type": "stream",
          "text": [
            "/content/uploads/WhatsApp_Image_2021-07-24_at_11.55.13_PM.jpeg\n"
          ],
          "name": "stdout"
        },
        {
          "output_type": "stream",
          "text": [
            "127.0.0.1 - - [24/Jul/2021 18:27:05] \"\u001b[37mPOST /predict HTTP/1.1\u001b[0m\" 200 -\n"
          ],
          "name": "stderr"
        },
        {
          "output_type": "stream",
          "text": [
            "/content/uploads/WhatsApp_Image_2021-07-24_at_11.56.04_PM.jpeg\n"
          ],
          "name": "stdout"
        },
        {
          "output_type": "stream",
          "text": [
            "127.0.0.1 - - [24/Jul/2021 18:27:55] \"\u001b[37mPOST /predict HTTP/1.1\u001b[0m\" 200 -\n"
          ],
          "name": "stderr"
        },
        {
          "output_type": "stream",
          "text": [
            "/content/uploads/WhatsApp_Image_2021-07-24_at_11.57.16_PM.jpeg\n"
          ],
          "name": "stdout"
        },
        {
          "output_type": "stream",
          "text": [
            "127.0.0.1 - - [24/Jul/2021 18:28:24] \"\u001b[37mPOST /predict HTTP/1.1\u001b[0m\" 200 -\n"
          ],
          "name": "stderr"
        },
        {
          "output_type": "stream",
          "text": [
            "/content/uploads/h2.png\n"
          ],
          "name": "stdout"
        },
        {
          "output_type": "stream",
          "text": [
            "127.0.0.1 - - [24/Jul/2021 18:29:58] \"\u001b[37mPOST /predict HTTP/1.1\u001b[0m\" 200 -\n"
          ],
          "name": "stderr"
        },
        {
          "output_type": "stream",
          "text": [
            "/content/uploads/WhatsApp_Image_2021-07-24_at_11.57.16_PM.jpeg\n"
          ],
          "name": "stdout"
        },
        {
          "output_type": "stream",
          "text": [
            "127.0.0.1 - - [24/Jul/2021 18:32:10] \"\u001b[37mPOST /predict HTTP/1.1\u001b[0m\" 200 -\n"
          ],
          "name": "stderr"
        },
        {
          "output_type": "stream",
          "text": [
            "/content/uploads/healthy_1.png\n"
          ],
          "name": "stdout"
        },
        {
          "output_type": "stream",
          "text": [
            "127.0.0.1 - - [24/Jul/2021 18:32:35] \"\u001b[37mPOST /predict HTTP/1.1\u001b[0m\" 200 -\n"
          ],
          "name": "stderr"
        },
        {
          "output_type": "stream",
          "text": [
            "/content/uploads/healthy_7.jpg\n"
          ],
          "name": "stdout"
        }
      ]
    },
    {
      "cell_type": "code",
      "metadata": {
        "id": "BKvXjfLDr_5t"
      },
      "source": [
        ""
      ],
      "execution_count": null,
      "outputs": []
    }
  ]
}